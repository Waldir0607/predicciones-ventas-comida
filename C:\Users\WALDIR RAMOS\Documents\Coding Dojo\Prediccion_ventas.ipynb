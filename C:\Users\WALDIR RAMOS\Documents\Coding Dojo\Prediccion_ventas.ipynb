{
  "nbformat": 4,
  "nbformat_minor": 0,
  "metadata": {
    "colab": {
      "provenance": [],
      "authorship_tag": "ABX9TyPACP+J5HB6P7Mx6lSZqi5L",
      "include_colab_link": true
    },
    "kernelspec": {
      "name": "python3",
      "display_name": "Python 3"
    },
    "language_info": {
      "name": "python"
    }
  },
  "cells": [
    {
      "cell_type": "markdown",
      "metadata": {
        "id": "view-in-github",
        "colab_type": "text"
      },
      "source": [
        "<a href=\"https://colab.research.google.com/github/Waldir0607/predicciones-ventas-comida/blob/main/C%3A%5CUsers%5CWALDIR%20RAMOS%5CDocuments%5CCoding%20Dojo%5CPrediccion_ventas.ipynb\" target=\"_parent\"><img src=\"https://colab.research.google.com/assets/colab-badge.svg\" alt=\"Open In Colab\"/></a>"
      ]
    },
    {
      "cell_type": "code",
      "execution_count": 1,
      "metadata": {
        "id": "LFWauTcwlkDd"
      },
      "outputs": [],
      "source": [
        "import pandas as pd"
      ]
    }
  ]
}